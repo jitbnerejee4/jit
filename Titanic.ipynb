{
  "nbformat": 4,
  "nbformat_minor": 0,
  "metadata": {
    "colab": {
      "name": "Titanic.ipynb",
      "provenance": [],
      "authorship_tag": "ABX9TyMCZC6KHAuo3DXl/8fKoOxI",
      "include_colab_link": true
    },
    "kernelspec": {
      "name": "python3",
      "display_name": "Python 3"
    },
    "accelerator": "GPU"
  },
  "cells": [
    {
      "cell_type": "markdown",
      "metadata": {
        "id": "view-in-github",
        "colab_type": "text"
      },
      "source": [
        "<a href=\"https://colab.research.google.com/github/jitbnerejee4/jit/blob/fastai/Titanic.ipynb\" target=\"_parent\"><img src=\"https://colab.research.google.com/assets/colab-badge.svg\" alt=\"Open In Colab\"/></a>"
      ]
    },
    {
      "cell_type": "code",
      "metadata": {
        "id": "i85StYunqdG3",
        "colab_type": "code",
        "colab": {}
      },
      "source": [
        "%matplotlib inline\n",
        "from fastai.basics import *\n",
        "from fastai.tabular import *\n",
        "from fastai import *"
      ],
      "execution_count": 0,
      "outputs": []
    },
    {
      "cell_type": "code",
      "metadata": {
        "id": "hnTf4Qg5qsgc",
        "colab_type": "code",
        "colab": {
          "base_uri": "https://localhost:8080/",
          "height": 34
        },
        "outputId": "a52b3fcf-1875-4c4a-9240-fb8057da4586"
      },
      "source": [
        "! mkdir -p ~/.kaggle/\n",
        "! mv kaggle.json ~/.kaggle/"
      ],
      "execution_count": 2,
      "outputs": [
        {
          "output_type": "stream",
          "text": [
            "mv: cannot stat 'kaggle.json': No such file or directory\n"
          ],
          "name": "stdout"
        }
      ]
    },
    {
      "cell_type": "code",
      "metadata": {
        "id": "zOMovKZwqvau",
        "colab_type": "code",
        "colab": {
          "base_uri": "https://localhost:8080/",
          "height": 34
        },
        "outputId": "07af2963-7486-40e1-e0ee-dffd5c319911"
      },
      "source": [
        "path = Config.data_path()/'Titanic'\n",
        "path.mkdir(parents=True, exist_ok=True)\n",
        "path"
      ],
      "execution_count": 2,
      "outputs": [
        {
          "output_type": "execute_result",
          "data": {
            "text/plain": [
              "PosixPath('/root/.fastai/data/Titanic')"
            ]
          },
          "metadata": {
            "tags": []
          },
          "execution_count": 2
        }
      ]
    },
    {
      "cell_type": "code",
      "metadata": {
        "id": "YMVvWu_Xqz4U",
        "colab_type": "code",
        "colab": {
          "base_uri": "https://localhost:8080/",
          "height": 224
        },
        "outputId": "2e7cd538-36dc-49f8-dcc2-eb5dc0be8420"
      },
      "source": [
        "!kaggle competitions download -c titanic"
      ],
      "execution_count": 3,
      "outputs": [
        {
          "output_type": "stream",
          "text": [
            "Warning: Your Kaggle API key is readable by other users on this system! To fix this, you can run 'chmod 600 /root/.kaggle/kaggle.json'\n",
            "Warning: Looks like you're using an outdated API Version, please consider updating (server 1.5.6 / client 1.5.4)\n",
            "Downloading gender_submission.csv to /content\n",
            "\r  0% 0.00/3.18k [00:00<?, ?B/s]\n",
            "100% 3.18k/3.18k [00:00<00:00, 5.14MB/s]\n",
            "Downloading test.csv to /content\n",
            "  0% 0.00/28.0k [00:00<?, ?B/s]\n",
            "100% 28.0k/28.0k [00:00<00:00, 29.0MB/s]\n",
            "Downloading train.csv to /content\n",
            "  0% 0.00/59.8k [00:00<?, ?B/s]\n",
            "100% 59.8k/59.8k [00:00<00:00, 60.1MB/s]\n"
          ],
          "name": "stdout"
        }
      ]
    },
    {
      "cell_type": "code",
      "metadata": {
        "id": "iY8RKbkRq5v2",
        "colab_type": "code",
        "colab": {}
      },
      "source": [
        "! mv train.csv /root/.fastai/data/Titanic"
      ],
      "execution_count": 0,
      "outputs": []
    },
    {
      "cell_type": "code",
      "metadata": {
        "id": "UwZ7aADBrBin",
        "colab_type": "code",
        "colab": {}
      },
      "source": [
        "! mv test.csv /root/.fastai/data/Titanic\n",
        "! mv gender_submission.csv /root/.fastai/data/Titanic"
      ],
      "execution_count": 0,
      "outputs": []
    },
    {
      "cell_type": "code",
      "metadata": {
        "id": "iTeSlODQrXYB",
        "colab_type": "code",
        "colab": {
          "base_uri": "https://localhost:8080/",
          "height": 85
        },
        "outputId": "927aaa6c-d1a4-4619-8bff-b0a235310927"
      },
      "source": [
        "path.ls()"
      ],
      "execution_count": 6,
      "outputs": [
        {
          "output_type": "execute_result",
          "data": {
            "text/plain": [
              "[PosixPath('/root/.fastai/data/Titanic/models'),\n",
              " PosixPath('/root/.fastai/data/Titanic/train.csv'),\n",
              " PosixPath('/root/.fastai/data/Titanic/test.csv'),\n",
              " PosixPath('/root/.fastai/data/Titanic/gender_submission.csv')]"
            ]
          },
          "metadata": {
            "tags": []
          },
          "execution_count": 6
        }
      ]
    },
    {
      "cell_type": "code",
      "metadata": {
        "id": "KXkc6Yb8rljt",
        "colab_type": "code",
        "colab": {}
      },
      "source": [
        "train = pd.read_csv(path/'train.csv')"
      ],
      "execution_count": 0,
      "outputs": []
    },
    {
      "cell_type": "code",
      "metadata": {
        "id": "LMwIXVLXro5w",
        "colab_type": "code",
        "colab": {
          "base_uri": "https://localhost:8080/",
          "height": 255
        },
        "outputId": "140fb061-811b-438f-f587-c2a4e3cf4d0d"
      },
      "source": [
        "train.head()"
      ],
      "execution_count": 8,
      "outputs": [
        {
          "output_type": "execute_result",
          "data": {
            "text/html": [
              "<div>\n",
              "<style scoped>\n",
              "    .dataframe tbody tr th:only-of-type {\n",
              "        vertical-align: middle;\n",
              "    }\n",
              "\n",
              "    .dataframe tbody tr th {\n",
              "        vertical-align: top;\n",
              "    }\n",
              "\n",
              "    .dataframe thead th {\n",
              "        text-align: right;\n",
              "    }\n",
              "</style>\n",
              "<table border=\"1\" class=\"dataframe\">\n",
              "  <thead>\n",
              "    <tr style=\"text-align: right;\">\n",
              "      <th></th>\n",
              "      <th>PassengerId</th>\n",
              "      <th>Survived</th>\n",
              "      <th>Pclass</th>\n",
              "      <th>Name</th>\n",
              "      <th>Sex</th>\n",
              "      <th>Age</th>\n",
              "      <th>SibSp</th>\n",
              "      <th>Parch</th>\n",
              "      <th>Ticket</th>\n",
              "      <th>Fare</th>\n",
              "      <th>Cabin</th>\n",
              "      <th>Embarked</th>\n",
              "    </tr>\n",
              "  </thead>\n",
              "  <tbody>\n",
              "    <tr>\n",
              "      <th>0</th>\n",
              "      <td>1</td>\n",
              "      <td>0</td>\n",
              "      <td>3</td>\n",
              "      <td>Braund, Mr. Owen Harris</td>\n",
              "      <td>male</td>\n",
              "      <td>22.0</td>\n",
              "      <td>1</td>\n",
              "      <td>0</td>\n",
              "      <td>A/5 21171</td>\n",
              "      <td>7.2500</td>\n",
              "      <td>NaN</td>\n",
              "      <td>S</td>\n",
              "    </tr>\n",
              "    <tr>\n",
              "      <th>1</th>\n",
              "      <td>2</td>\n",
              "      <td>1</td>\n",
              "      <td>1</td>\n",
              "      <td>Cumings, Mrs. John Bradley (Florence Briggs Th...</td>\n",
              "      <td>female</td>\n",
              "      <td>38.0</td>\n",
              "      <td>1</td>\n",
              "      <td>0</td>\n",
              "      <td>PC 17599</td>\n",
              "      <td>71.2833</td>\n",
              "      <td>C85</td>\n",
              "      <td>C</td>\n",
              "    </tr>\n",
              "    <tr>\n",
              "      <th>2</th>\n",
              "      <td>3</td>\n",
              "      <td>1</td>\n",
              "      <td>3</td>\n",
              "      <td>Heikkinen, Miss. Laina</td>\n",
              "      <td>female</td>\n",
              "      <td>26.0</td>\n",
              "      <td>0</td>\n",
              "      <td>0</td>\n",
              "      <td>STON/O2. 3101282</td>\n",
              "      <td>7.9250</td>\n",
              "      <td>NaN</td>\n",
              "      <td>S</td>\n",
              "    </tr>\n",
              "    <tr>\n",
              "      <th>3</th>\n",
              "      <td>4</td>\n",
              "      <td>1</td>\n",
              "      <td>1</td>\n",
              "      <td>Futrelle, Mrs. Jacques Heath (Lily May Peel)</td>\n",
              "      <td>female</td>\n",
              "      <td>35.0</td>\n",
              "      <td>1</td>\n",
              "      <td>0</td>\n",
              "      <td>113803</td>\n",
              "      <td>53.1000</td>\n",
              "      <td>C123</td>\n",
              "      <td>S</td>\n",
              "    </tr>\n",
              "    <tr>\n",
              "      <th>4</th>\n",
              "      <td>5</td>\n",
              "      <td>0</td>\n",
              "      <td>3</td>\n",
              "      <td>Allen, Mr. William Henry</td>\n",
              "      <td>male</td>\n",
              "      <td>35.0</td>\n",
              "      <td>0</td>\n",
              "      <td>0</td>\n",
              "      <td>373450</td>\n",
              "      <td>8.0500</td>\n",
              "      <td>NaN</td>\n",
              "      <td>S</td>\n",
              "    </tr>\n",
              "  </tbody>\n",
              "</table>\n",
              "</div>"
            ],
            "text/plain": [
              "   PassengerId  Survived  Pclass  ...     Fare Cabin  Embarked\n",
              "0            1         0       3  ...   7.2500   NaN         S\n",
              "1            2         1       1  ...  71.2833   C85         C\n",
              "2            3         1       3  ...   7.9250   NaN         S\n",
              "3            4         1       1  ...  53.1000  C123         S\n",
              "4            5         0       3  ...   8.0500   NaN         S\n",
              "\n",
              "[5 rows x 12 columns]"
            ]
          },
          "metadata": {
            "tags": []
          },
          "execution_count": 8
        }
      ]
    },
    {
      "cell_type": "code",
      "metadata": {
        "id": "e8Ep0fTMrqrb",
        "colab_type": "code",
        "colab": {
          "base_uri": "https://localhost:8080/",
          "height": 34
        },
        "outputId": "00605f79-4609-4a06-8d36-868853f20403"
      },
      "source": [
        "train.shape"
      ],
      "execution_count": 9,
      "outputs": [
        {
          "output_type": "execute_result",
          "data": {
            "text/plain": [
              "(891, 12)"
            ]
          },
          "metadata": {
            "tags": []
          },
          "execution_count": 9
        }
      ]
    },
    {
      "cell_type": "code",
      "metadata": {
        "id": "f6cMAXGztbrO",
        "colab_type": "code",
        "colab": {}
      },
      "source": [
        "test = pd.read_csv(path/'test.csv')"
      ],
      "execution_count": 0,
      "outputs": []
    },
    {
      "cell_type": "code",
      "metadata": {
        "id": "HxDCXMQ2u6Pe",
        "colab_type": "code",
        "colab": {}
      },
      "source": [
        "test.isnull().sum()\n",
        "test[\"Fare\"] = test[\"Fare\"].fillna(value =0)"
      ],
      "execution_count": 0,
      "outputs": []
    },
    {
      "cell_type": "code",
      "metadata": {
        "id": "NOTIqk_ArvTE",
        "colab_type": "code",
        "colab": {}
      },
      "source": [
        "#train.Survived = train.Survived.astype(float)\n",
        "dep_var = 'Survived'\n",
        "cat_names = ['Name', 'Sex', 'Ticket', 'Cabin', 'Embarked']\n",
        "cont_names = ['Age', 'SibSp', 'Parch', 'Fare']\n",
        "procs = [FillMissing, Categorify, Normalize]"
      ],
      "execution_count": 0,
      "outputs": []
    },
    {
      "cell_type": "code",
      "metadata": {
        "id": "M3kR5R8Ksh1F",
        "colab_type": "code",
        "colab": {}
      },
      "source": [
        "test = TabularList.from_df(test, cat_names=cat_names, cont_names=cont_names, procs=procs)"
      ],
      "execution_count": 0,
      "outputs": []
    },
    {
      "cell_type": "code",
      "metadata": {
        "id": "Drk_49P5t50I",
        "colab_type": "code",
        "colab": {}
      },
      "source": [
        "data = (TabularList.from_df(train, path=path, cat_names = cat_names, \n",
        "                            cont_names=cont_names, procs=procs)\n",
        "                           .split_by_idx(list(range(0,200)))\n",
        "                           .label_from_df(cols=dep_var)\n",
        "                           .add_test(test)\n",
        "                           .databunch())"
      ],
      "execution_count": 0,
      "outputs": []
    },
    {
      "cell_type": "code",
      "metadata": {
        "id": "1cxCMBxWuJt6",
        "colab_type": "code",
        "colab": {
          "base_uri": "https://localhost:8080/",
          "height": 427
        },
        "outputId": "325b1e59-2a60-4a4a-c230-5d7de9ab235f"
      },
      "source": [
        "data.show_batch(10)"
      ],
      "execution_count": 16,
      "outputs": [
        {
          "output_type": "display_data",
          "data": {
            "text/html": [
              "<table border=\"1\" class=\"dataframe\">\n",
              "  <thead>\n",
              "    <tr style=\"text-align: right;\">\n",
              "      <th>Name</th>\n",
              "      <th>Sex</th>\n",
              "      <th>Ticket</th>\n",
              "      <th>Cabin</th>\n",
              "      <th>Embarked</th>\n",
              "      <th>Age_na</th>\n",
              "      <th>Age</th>\n",
              "      <th>SibSp</th>\n",
              "      <th>Parch</th>\n",
              "      <th>Fare</th>\n",
              "      <th>target</th>\n",
              "    </tr>\n",
              "  </thead>\n",
              "  <tbody>\n",
              "    <tr>\n",
              "      <td>Leitch, Miss. Jessie Wills</td>\n",
              "      <td>female</td>\n",
              "      <td>248727</td>\n",
              "      <td>#na#</td>\n",
              "      <td>S</td>\n",
              "      <td>True</td>\n",
              "      <td>-0.0741</td>\n",
              "      <td>-0.4610</td>\n",
              "      <td>-0.4658</td>\n",
              "      <td>-0.0106</td>\n",
              "      <td>1</td>\n",
              "    </tr>\n",
              "    <tr>\n",
              "      <td>Johnson, Master. Harold Theodor</td>\n",
              "      <td>male</td>\n",
              "      <td>347742</td>\n",
              "      <td>#na#</td>\n",
              "      <td>S</td>\n",
              "      <td>False</td>\n",
              "      <td>-2.0271</td>\n",
              "      <td>0.5043</td>\n",
              "      <td>0.8064</td>\n",
              "      <td>-0.4247</td>\n",
              "      <td>1</td>\n",
              "    </tr>\n",
              "    <tr>\n",
              "      <td>Goodwin, Mr. Charles Edward</td>\n",
              "      <td>male</td>\n",
              "      <td>CA 2144</td>\n",
              "      <td>#na#</td>\n",
              "      <td>S</td>\n",
              "      <td>False</td>\n",
              "      <td>-1.2459</td>\n",
              "      <td>4.3658</td>\n",
              "      <td>2.0785</td>\n",
              "      <td>0.2526</td>\n",
              "      <td>0</td>\n",
              "    </tr>\n",
              "    <tr>\n",
              "      <td>Pears, Mr. Thomas Clinton</td>\n",
              "      <td>male</td>\n",
              "      <td>113776</td>\n",
              "      <td>C2</td>\n",
              "      <td>S</td>\n",
              "      <td>False</td>\n",
              "      <td>-0.0741</td>\n",
              "      <td>0.5043</td>\n",
              "      <td>-0.4658</td>\n",
              "      <td>0.6257</td>\n",
              "      <td>0</td>\n",
              "    </tr>\n",
              "    <tr>\n",
              "      <td>Canavan, Miss. Mary</td>\n",
              "      <td>female</td>\n",
              "      <td>364846</td>\n",
              "      <td>#na#</td>\n",
              "      <td>Q</td>\n",
              "      <td>False</td>\n",
              "      <td>-0.6990</td>\n",
              "      <td>-0.4610</td>\n",
              "      <td>-0.4658</td>\n",
              "      <td>-0.4888</td>\n",
              "      <td>0</td>\n",
              "    </tr>\n",
              "    <tr>\n",
              "      <td>O'Connell, Mr. Patrick D</td>\n",
              "      <td>male</td>\n",
              "      <td>334912</td>\n",
              "      <td>#na#</td>\n",
              "      <td>Q</td>\n",
              "      <td>True</td>\n",
              "      <td>-0.0741</td>\n",
              "      <td>-0.4610</td>\n",
              "      <td>-0.4658</td>\n",
              "      <td>-0.4891</td>\n",
              "      <td>0</td>\n",
              "    </tr>\n",
              "    <tr>\n",
              "      <td>Perkin, Mr. John Henry</td>\n",
              "      <td>male</td>\n",
              "      <td>A/5 21174</td>\n",
              "      <td>#na#</td>\n",
              "      <td>S</td>\n",
              "      <td>False</td>\n",
              "      <td>-0.6209</td>\n",
              "      <td>-0.4610</td>\n",
              "      <td>-0.4658</td>\n",
              "      <td>-0.4982</td>\n",
              "      <td>0</td>\n",
              "    </tr>\n",
              "    <tr>\n",
              "      <td>Duff Gordon, Sir. Cosmo Edmund (\"Mr Morgan\")</td>\n",
              "      <td>male</td>\n",
              "      <td>PC 17485</td>\n",
              "      <td>A20</td>\n",
              "      <td>C</td>\n",
              "      <td>False</td>\n",
              "      <td>1.4883</td>\n",
              "      <td>0.5043</td>\n",
              "      <td>-0.4658</td>\n",
              "      <td>0.4425</td>\n",
              "      <td>1</td>\n",
              "    </tr>\n",
              "    <tr>\n",
              "      <td>Milling, Mr. Jacob Christian</td>\n",
              "      <td>male</td>\n",
              "      <td>234360</td>\n",
              "      <td>#na#</td>\n",
              "      <td>S</td>\n",
              "      <td>False</td>\n",
              "      <td>1.4102</td>\n",
              "      <td>-0.4610</td>\n",
              "      <td>-0.4658</td>\n",
              "      <td>-0.3894</td>\n",
              "      <td>0</td>\n",
              "    </tr>\n",
              "    <tr>\n",
              "      <td>Brown, Mrs. Thomas William Solomon (Elizabeth Catherine Ford)</td>\n",
              "      <td>female</td>\n",
              "      <td>29750</td>\n",
              "      <td>#na#</td>\n",
              "      <td>S</td>\n",
              "      <td>False</td>\n",
              "      <td>0.7852</td>\n",
              "      <td>0.5043</td>\n",
              "      <td>0.8064</td>\n",
              "      <td>0.1030</td>\n",
              "      <td>1</td>\n",
              "    </tr>\n",
              "  </tbody>\n",
              "</table>"
            ],
            "text/plain": [
              "<IPython.core.display.HTML object>"
            ]
          },
          "metadata": {
            "tags": []
          }
        }
      ]
    },
    {
      "cell_type": "code",
      "metadata": {
        "id": "Fn72T71cvimW",
        "colab_type": "code",
        "colab": {}
      },
      "source": [
        "learn = tabular_learner(data, layers=[1000,100,15],emb_drop=0.1, metrics=accuracy)"
      ],
      "execution_count": 0,
      "outputs": []
    },
    {
      "cell_type": "code",
      "metadata": {
        "id": "nOGmzWimpXOV",
        "colab_type": "code",
        "colab": {
          "base_uri": "https://localhost:8080/",
          "height": 391
        },
        "outputId": "66aa6f0d-34bb-4b4e-e723-338bd02a69a9"
      },
      "source": [
        "learn.lr_find()"
      ],
      "execution_count": 19,
      "outputs": [
        {
          "output_type": "display_data",
          "data": {
            "text/html": [
              "\n",
              "    <div>\n",
              "        <style>\n",
              "            /* Turns off some styling */\n",
              "            progress {\n",
              "                /* gets rid of default border in Firefox and Opera. */\n",
              "                border: none;\n",
              "                /* Needs to be in here for Safari polyfill so background images work as expected. */\n",
              "                background-size: auto;\n",
              "            }\n",
              "            .progress-bar-interrupted, .progress-bar-interrupted::-webkit-progress-bar {\n",
              "                background: #F44336;\n",
              "            }\n",
              "        </style>\n",
              "      <progress value='9' class='' max='10' style='width:300px; height:20px; vertical-align: middle;'></progress>\n",
              "      90.00% [9/10 00:01<00:00]\n",
              "    </div>\n",
              "    \n",
              "<table border=\"1\" class=\"dataframe\">\n",
              "  <thead>\n",
              "    <tr style=\"text-align: left;\">\n",
              "      <th>epoch</th>\n",
              "      <th>train_loss</th>\n",
              "      <th>valid_loss</th>\n",
              "      <th>accuracy</th>\n",
              "      <th>time</th>\n",
              "    </tr>\n",
              "  </thead>\n",
              "  <tbody>\n",
              "    <tr>\n",
              "      <td>0</td>\n",
              "      <td>0.866480</td>\n",
              "      <td>#na#</td>\n",
              "      <td>00:00</td>\n",
              "    </tr>\n",
              "    <tr>\n",
              "      <td>1</td>\n",
              "      <td>0.862847</td>\n",
              "      <td>#na#</td>\n",
              "      <td>00:00</td>\n",
              "    </tr>\n",
              "    <tr>\n",
              "      <td>2</td>\n",
              "      <td>0.845937</td>\n",
              "      <td>#na#</td>\n",
              "      <td>00:00</td>\n",
              "    </tr>\n",
              "    <tr>\n",
              "      <td>3</td>\n",
              "      <td>0.800548</td>\n",
              "      <td>#na#</td>\n",
              "      <td>00:00</td>\n",
              "    </tr>\n",
              "    <tr>\n",
              "      <td>4</td>\n",
              "      <td>0.746827</td>\n",
              "      <td>#na#</td>\n",
              "      <td>00:00</td>\n",
              "    </tr>\n",
              "    <tr>\n",
              "      <td>5</td>\n",
              "      <td>0.702020</td>\n",
              "      <td>#na#</td>\n",
              "      <td>00:00</td>\n",
              "    </tr>\n",
              "    <tr>\n",
              "      <td>6</td>\n",
              "      <td>0.632983</td>\n",
              "      <td>#na#</td>\n",
              "      <td>00:00</td>\n",
              "    </tr>\n",
              "    <tr>\n",
              "      <td>7</td>\n",
              "      <td>0.522950</td>\n",
              "      <td>#na#</td>\n",
              "      <td>00:00</td>\n",
              "    </tr>\n",
              "    <tr>\n",
              "      <td>8</td>\n",
              "      <td>0.459295</td>\n",
              "      <td>#na#</td>\n",
              "      <td>00:00</td>\n",
              "    </tr>\n",
              "  </tbody>\n",
              "</table><p>\n",
              "\n",
              "    <div>\n",
              "        <style>\n",
              "            /* Turns off some styling */\n",
              "            progress {\n",
              "                /* gets rid of default border in Firefox and Opera. */\n",
              "                border: none;\n",
              "                /* Needs to be in here for Safari polyfill so background images work as expected. */\n",
              "                background-size: auto;\n",
              "            }\n",
              "            .progress-bar-interrupted, .progress-bar-interrupted::-webkit-progress-bar {\n",
              "                background: #F44336;\n",
              "            }\n",
              "        </style>\n",
              "      <progress value='5' class='' max='10' style='width:300px; height:20px; vertical-align: middle;'></progress>\n",
              "      50.00% [5/10 00:00<00:00 0.6220]\n",
              "    </div>\n",
              "    "
            ],
            "text/plain": [
              "<IPython.core.display.HTML object>"
            ]
          },
          "metadata": {
            "tags": []
          }
        },
        {
          "output_type": "stream",
          "text": [
            "LR Finder is complete, type {learner_name}.recorder.plot() to see the graph.\n"
          ],
          "name": "stdout"
        }
      ]
    },
    {
      "cell_type": "code",
      "metadata": {
        "id": "uMMTUrEYpi6Y",
        "colab_type": "code",
        "colab": {
          "base_uri": "https://localhost:8080/",
          "height": 279
        },
        "outputId": "a3fe2152-40fa-45fc-c846-edb86202da93"
      },
      "source": [
        "learn.recorder.plot()"
      ],
      "execution_count": 20,
      "outputs": [
        {
          "output_type": "display_data",
          "data": {
            "image/png": "[encoded data removed]",
            "text/plain": [
              "<Figure size 432x288 with 1 Axes>"
            ]
          },
          "metadata": {
            "tags": [],
            "needs_background": "light"
          }
        }
      ]
    },
    {
      "cell_type": "code",
      "metadata": {
        "id": "yCmRepolpqYJ",
        "colab_type": "code",
        "colab": {
          "base_uri": "https://localhost:8080/",
          "height": 514
        },
        "outputId": "dc341217-198d-460d-ba7d-a736497ed7a1"
      },
      "source": [
        "learn.fit_one_cycle(15, 1e-06)"
      ],
      "execution_count": 21,
      "outputs": [
        {
          "output_type": "display_data",
          "data": {
            "text/html": [
              "<table border=\"1\" class=\"dataframe\">\n",
              "  <thead>\n",
              "    <tr style=\"text-align: left;\">\n",
              "      <th>epoch</th>\n",
              "      <th>train_loss</th>\n",
              "      <th>valid_loss</th>\n",
              "      <th>accuracy</th>\n",
              "      <th>time</th>\n",
              "    </tr>\n",
              "  </thead>\n",
              "  <tbody>\n",
              "    <tr>\n",
              "      <td>0</td>\n",
              "      <td>0.878268</td>\n",
              "      <td>0.763990</td>\n",
              "      <td>0.345000</td>\n",
              "      <td>00:00</td>\n",
              "    </tr>\n",
              "    <tr>\n",
              "      <td>1</td>\n",
              "      <td>0.873183</td>\n",
              "      <td>0.792122</td>\n",
              "      <td>0.345000</td>\n",
              "      <td>00:00</td>\n",
              "    </tr>\n",
              "    <tr>\n",
              "      <td>2</td>\n",
              "      <td>0.872704</td>\n",
              "      <td>0.807316</td>\n",
              "      <td>0.345000</td>\n",
              "      <td>00:00</td>\n",
              "    </tr>\n",
              "    <tr>\n",
              "      <td>3</td>\n",
              "      <td>0.870932</td>\n",
              "      <td>0.808594</td>\n",
              "      <td>0.350000</td>\n",
              "      <td>00:00</td>\n",
              "    </tr>\n",
              "    <tr>\n",
              "      <td>4</td>\n",
              "      <td>0.869390</td>\n",
              "      <td>0.803441</td>\n",
              "      <td>0.355000</td>\n",
              "      <td>00:00</td>\n",
              "    </tr>\n",
              "    <tr>\n",
              "      <td>5</td>\n",
              "      <td>0.863530</td>\n",
              "      <td>0.804640</td>\n",
              "      <td>0.380000</td>\n",
              "      <td>00:00</td>\n",
              "    </tr>\n",
              "    <tr>\n",
              "      <td>6</td>\n",
              "      <td>0.853519</td>\n",
              "      <td>0.804509</td>\n",
              "      <td>0.430000</td>\n",
              "      <td>00:00</td>\n",
              "    </tr>\n",
              "    <tr>\n",
              "      <td>7</td>\n",
              "      <td>0.847372</td>\n",
              "      <td>0.802815</td>\n",
              "      <td>0.420000</td>\n",
              "      <td>00:00</td>\n",
              "    </tr>\n",
              "    <tr>\n",
              "      <td>8</td>\n",
              "      <td>0.835911</td>\n",
              "      <td>0.798627</td>\n",
              "      <td>0.435000</td>\n",
              "      <td>00:00</td>\n",
              "    </tr>\n",
              "    <tr>\n",
              "      <td>9</td>\n",
              "      <td>0.833500</td>\n",
              "      <td>0.798060</td>\n",
              "      <td>0.415000</td>\n",
              "      <td>00:00</td>\n",
              "    </tr>\n",
              "    <tr>\n",
              "      <td>10</td>\n",
              "      <td>0.826071</td>\n",
              "      <td>0.798800</td>\n",
              "      <td>0.480000</td>\n",
              "      <td>00:00</td>\n",
              "    </tr>\n",
              "    <tr>\n",
              "      <td>11</td>\n",
              "      <td>0.820847</td>\n",
              "      <td>0.797024</td>\n",
              "      <td>0.420000</td>\n",
              "      <td>00:00</td>\n",
              "    </tr>\n",
              "    <tr>\n",
              "      <td>12</td>\n",
              "      <td>0.815898</td>\n",
              "      <td>0.799509</td>\n",
              "      <td>0.420000</td>\n",
              "      <td>00:00</td>\n",
              "    </tr>\n",
              "    <tr>\n",
              "      <td>13</td>\n",
              "      <td>0.814955</td>\n",
              "      <td>0.802139</td>\n",
              "      <td>0.420000</td>\n",
              "      <td>00:00</td>\n",
              "    </tr>\n",
              "    <tr>\n",
              "      <td>14</td>\n",
              "      <td>0.811621</td>\n",
              "      <td>0.799045</td>\n",
              "      <td>0.470000</td>\n",
              "      <td>00:00</td>\n",
              "    </tr>\n",
              "  </tbody>\n",
              "</table>"
            ],
            "text/plain": [
              "<IPython.core.display.HTML object>"
            ]
          },
          "metadata": {
            "tags": []
          }
        }
      ]
    },
    {
      "cell_type": "code",
      "metadata": {
        "id": "6sorLRfSpydM",
        "colab_type": "code",
        "colab": {}
      },
      "source": [
        "learn.save('stage-1')"
      ],
      "execution_count": 0,
      "outputs": []
    },
    {
      "cell_type": "code",
      "metadata": {
        "id": "7jIfipyKqAHb",
        "colab_type": "code",
        "colab": {
          "base_uri": "https://localhost:8080/",
          "height": 1000
        },
        "outputId": "7065513b-7231-49ba-be80-32199cf8f705"
      },
      "source": [
        "learn.load('stage-1')"
      ],
      "execution_count": 23,
      "outputs": [
        {
          "output_type": "execute_result",
          "data": {
            "text/plain": [
              "Learner(data=TabularDataBunch;\n",
              "\n",
              "Train: LabelList (691 items)\n",
              "x: TabularList\n",
              "Name Vande Walle, Mr. Nestor Cyriel; Sex male; Ticket 345770; Cabin #na#; Embarked S; Age_na False; Age -0.1522; SibSp -0.4610; Parch -0.4658; Fare -0.4556; ,Name Sage, Mr. Frederick; Sex male; Ticket CA. 2343; Cabin #na#; Embarked S; Age_na True; Age -0.0741; SibSp 7.2619; Parch 2.0785; Fare 0.6815; ,Name Johanson, Mr. Jakob Alfred; Sex male; Ticket 3101264; Cabin #na#; Embarked S; Age_na False; Age 0.3165; SibSp -0.4610; Parch -0.4658; Fare -0.5125; ,Name Youseff, Mr. Gerious; Sex male; Ticket 2628; Cabin #na#; Embarked C; Age_na False; Age 1.2149; SibSp -0.4610; Parch -0.4658; Fare -0.4987; ,Name Cohen, Mr. Gurshon \"Gus\"; Sex male; Ticket A/5 3540; Cabin #na#; Embarked S; Age_na False; Age -0.9334; SibSp -0.4610; Parch -0.4658; Fare -0.4831; \n",
              "y: CategoryList\n",
              "0,0,0,0,1\n",
              "Path: /root/.fastai/data/Titanic;\n",
              "\n",
              "Valid: LabelList (200 items)\n",
              "x: TabularList\n",
              "Name #na#; Sex male; Ticket #na#; Cabin #na#; Embarked S; Age_na False; Age -0.6209; SibSp 0.5043; Parch -0.4658; Fare -0.4982; ,Name #na#; Sex female; Ticket #na#; Cabin #na#; Embarked C; Age_na False; Age 0.6290; SibSp 0.5043; Parch -0.4658; Fare 0.7144; ,Name #na#; Sex female; Ticket #na#; Cabin #na#; Embarked S; Age_na False; Age -0.3084; SibSp -0.4610; Parch -0.4658; Fare -0.4855; ,Name #na#; Sex female; Ticket #na#; Cabin #na#; Embarked S; Age_na False; Age 0.3946; SibSp 0.5043; Parch -0.4658; Fare 0.3700; ,Name #na#; Sex male; Ticket #na#; Cabin #na#; Embarked S; Age_na False; Age 0.3946; SibSp -0.4610; Parch -0.4658; Fare -0.4831; \n",
              "y: CategoryList\n",
              "0,1,1,1,0\n",
              "Path: /root/.fastai/data/Titanic;\n",
              "\n",
              "Test: LabelList (418 items)\n",
              "x: TabularList\n",
              "Name Kelly, Mr. James; Sex male; Ticket #na#; Cabin #na#; Embarked Q; Age_na False; Age 0.3556; SibSp -0.4610; Parch -0.4658; Fare -0.4873; ,Name #na#; Sex female; Ticket #na#; Cabin #na#; Embarked S; Age_na False; Age 1.3321; SibSp 0.5043; Parch -0.4658; Fare -0.5030; ,Name #na#; Sex male; Ticket #na#; Cabin #na#; Embarked Q; Age_na False; Age 2.5038; SibSp -0.4610; Parch -0.4658; Fare -0.4521; ,Name #na#; Sex male; Ticket #na#; Cabin #na#; Embarked S; Age_na False; Age -0.2303; SibSp -0.4610; Parch -0.4658; Fare -0.4715; ,Name #na#; Sex female; Ticket 3101298; Cabin #na#; Embarked S; Age_na False; Age -0.6209; SibSp 0.5043; Parch 0.8064; Fare -0.4028; \n",
              "y: EmptyLabelList\n",
              ",,,,\n",
              "Path: /root/.fastai/data/Titanic, model=TabularModel(\n",
              "  (embeds): ModuleList(\n",
              "    (0): Embedding(692, 62)\n",
              "    (1): Embedding(3, 3)\n",
              "    (2): Embedding(553, 55)\n",
              "    (3): Embedding(126, 24)\n",
              "    (4): Embedding(4, 3)\n",
              "    (5): Embedding(3, 3)\n",
              "  )\n",
              "  (emb_drop): Dropout(p=0.1, inplace=False)\n",
              "  (bn_cont): BatchNorm1d(4, eps=1e-05, momentum=0.1, affine=True, track_running_stats=True)\n",
              "  (layers): Sequential(\n",
              "    (0): Linear(in_features=154, out_features=1000, bias=True)\n",
              "    (1): ReLU(inplace=True)\n",
              "    (2): BatchNorm1d(1000, eps=1e-05, momentum=0.1, affine=True, track_running_stats=True)\n",
              "    (3): Linear(in_features=1000, out_features=100, bias=True)\n",
              "    (4): ReLU(inplace=True)\n",
              "    (5): BatchNorm1d(100, eps=1e-05, momentum=0.1, affine=True, track_running_stats=True)\n",
              "    (6): Linear(in_features=100, out_features=15, bias=True)\n",
              "    (7): ReLU(inplace=True)\n",
              "    (8): BatchNorm1d(15, eps=1e-05, momentum=0.1, affine=True, track_running_stats=True)\n",
              "    (9): Linear(in_features=15, out_features=2, bias=True)\n",
              "  )\n",
              "), opt_func=functools.partial(<class 'torch.optim.adam.Adam'>, betas=(0.9, 0.99)), loss_func=FlattenedLoss of CrossEntropyLoss(), metrics=[<function accuracy at 0x7fcfed6c4400>], true_wd=True, bn_wd=True, wd=0.01, train_bn=True, path=PosixPath('/root/.fastai/data/Titanic'), model_dir='models', callback_fns=[functools.partial(<class 'fastai.basic_train.Recorder'>, add_time=True, silent=False)], callbacks=[], layer_groups=[Sequential(\n",
              "  (0): Embedding(692, 62)\n",
              "  (1): Embedding(3, 3)\n",
              "  (2): Embedding(553, 55)\n",
              "  (3): Embedding(126, 24)\n",
              "  (4): Embedding(4, 3)\n",
              "  (5): Embedding(3, 3)\n",
              "  (6): Dropout(p=0.1, inplace=False)\n",
              "  (7): BatchNorm1d(4, eps=1e-05, momentum=0.1, affine=True, track_running_stats=True)\n",
              "  (8): Linear(in_features=154, out_features=1000, bias=True)\n",
              "  (9): ReLU(inplace=True)\n",
              "  (10): BatchNorm1d(1000, eps=1e-05, momentum=0.1, affine=True, track_running_stats=True)\n",
              "  (11): Linear(in_features=1000, out_features=100, bias=True)\n",
              "  (12): ReLU(inplace=True)\n",
              "  (13): BatchNorm1d(100, eps=1e-05, momentum=0.1, affine=True, track_running_stats=True)\n",
              "  (14): Linear(in_features=100, out_features=15, bias=True)\n",
              "  (15): ReLU(inplace=True)\n",
              "  (16): BatchNorm1d(15, eps=1e-05, momentum=0.1, affine=True, track_running_stats=True)\n",
              "  (17): Linear(in_features=15, out_features=2, bias=True)\n",
              ")], add_time=True, silent=False)"
            ]
          },
          "metadata": {
            "tags": []
          },
          "execution_count": 23
        }
      ]
    },
    {
      "cell_type": "code",
      "metadata": {
        "id": "RcFxowmbqGdD",
        "colab_type": "code",
        "colab": {
          "base_uri": "https://localhost:8080/",
          "height": 391
        },
        "outputId": "279a9649-b94d-45e0-b083-af044e4a1b5b"
      },
      "source": [
        "learn.lr_find()"
      ],
      "execution_count": 24,
      "outputs": [
        {
          "output_type": "display_data",
          "data": {
            "text/html": [
              "\n",
              "    <div>\n",
              "        <style>\n",
              "            /* Turns off some styling */\n",
              "            progress {\n",
              "                /* gets rid of default border in Firefox and Opera. */\n",
              "                border: none;\n",
              "                /* Needs to be in here for Safari polyfill so background images work as expected. */\n",
              "                background-size: auto;\n",
              "            }\n",
              "            .progress-bar-interrupted, .progress-bar-interrupted::-webkit-progress-bar {\n",
              "                background: #F44336;\n",
              "            }\n",
              "        </style>\n",
              "      <progress value='9' class='' max='10' style='width:300px; height:20px; vertical-align: middle;'></progress>\n",
              "      90.00% [9/10 00:01<00:00]\n",
              "    </div>\n",
              "    \n",
              "<table border=\"1\" class=\"dataframe\">\n",
              "  <thead>\n",
              "    <tr style=\"text-align: left;\">\n",
              "      <th>epoch</th>\n",
              "      <th>train_loss</th>\n",
              "      <th>valid_loss</th>\n",
              "      <th>accuracy</th>\n",
              "      <th>time</th>\n",
              "    </tr>\n",
              "  </thead>\n",
              "  <tbody>\n",
              "    <tr>\n",
              "      <td>0</td>\n",
              "      <td>0.798414</td>\n",
              "      <td>#na#</td>\n",
              "      <td>00:00</td>\n",
              "    </tr>\n",
              "    <tr>\n",
              "      <td>1</td>\n",
              "      <td>0.794307</td>\n",
              "      <td>#na#</td>\n",
              "      <td>00:00</td>\n",
              "    </tr>\n",
              "    <tr>\n",
              "      <td>2</td>\n",
              "      <td>0.783784</td>\n",
              "      <td>#na#</td>\n",
              "      <td>00:00</td>\n",
              "    </tr>\n",
              "    <tr>\n",
              "      <td>3</td>\n",
              "      <td>0.748905</td>\n",
              "      <td>#na#</td>\n",
              "      <td>00:00</td>\n",
              "    </tr>\n",
              "    <tr>\n",
              "      <td>4</td>\n",
              "      <td>0.706733</td>\n",
              "      <td>#na#</td>\n",
              "      <td>00:00</td>\n",
              "    </tr>\n",
              "    <tr>\n",
              "      <td>5</td>\n",
              "      <td>0.676719</td>\n",
              "      <td>#na#</td>\n",
              "      <td>00:00</td>\n",
              "    </tr>\n",
              "    <tr>\n",
              "      <td>6</td>\n",
              "      <td>0.629215</td>\n",
              "      <td>#na#</td>\n",
              "      <td>00:00</td>\n",
              "    </tr>\n",
              "    <tr>\n",
              "      <td>7</td>\n",
              "      <td>0.529255</td>\n",
              "      <td>#na#</td>\n",
              "      <td>00:00</td>\n",
              "    </tr>\n",
              "    <tr>\n",
              "      <td>8</td>\n",
              "      <td>0.463305</td>\n",
              "      <td>#na#</td>\n",
              "      <td>00:00</td>\n",
              "    </tr>\n",
              "  </tbody>\n",
              "</table><p>\n",
              "\n",
              "    <div>\n",
              "        <style>\n",
              "            /* Turns off some styling */\n",
              "            progress {\n",
              "                /* gets rid of default border in Firefox and Opera. */\n",
              "                border: none;\n",
              "                /* Needs to be in here for Safari polyfill so background images work as expected. */\n",
              "                background-size: auto;\n",
              "            }\n",
              "            .progress-bar-interrupted, .progress-bar-interrupted::-webkit-progress-bar {\n",
              "                background: #F44336;\n",
              "            }\n",
              "        </style>\n",
              "      <progress value='5' class='' max='10' style='width:300px; height:20px; vertical-align: middle;'></progress>\n",
              "      50.00% [5/10 00:00<00:00 0.8084]\n",
              "    </div>\n",
              "    "
            ],
            "text/plain": [
              "<IPython.core.display.HTML object>"
            ]
          },
          "metadata": {
            "tags": []
          }
        },
        {
          "output_type": "stream",
          "text": [
            "LR Finder is complete, type {learner_name}.recorder.plot() to see the graph.\n"
          ],
          "name": "stdout"
        }
      ]
    },
    {
      "cell_type": "code",
      "metadata": {
        "id": "KAlO-e6Bqqm9",
        "colab_type": "code",
        "colab": {
          "base_uri": "https://localhost:8080/",
          "height": 279
        },
        "outputId": "c99b5255-132b-460c-d450-87acd90bc255"
      },
      "source": [
        "learn.recorder.plot()"
      ],
      "execution_count": 25,
      "outputs": [
        {
          "output_type": "display_data",
          "data": {
            "image/png": "[encoded data removed]",
            "text/plain": [
              "<Figure size 432x288 with 1 Axes>"
            ]
          },
          "metadata": {
            "tags": [],
            "needs_background": "light"
          }
        }
      ]
    },
    {
      "cell_type": "code",
      "metadata": {
        "id": "-fkOlTJPqtV7",
        "colab_type": "code",
        "colab": {
          "base_uri": "https://localhost:8080/",
          "height": 359
        },
        "outputId": "75173c09-35ab-4a8c-bca7-6d9f2f8799f6"
      },
      "source": [
        "learn.fit_one_cycle(10,1e-5)"
      ],
      "execution_count": 26,
      "outputs": [
        {
          "output_type": "display_data",
          "data": {
            "text/html": [
              "<table border=\"1\" class=\"dataframe\">\n",
              "  <thead>\n",
              "    <tr style=\"text-align: left;\">\n",
              "      <th>epoch</th>\n",
              "      <th>train_loss</th>\n",
              "      <th>valid_loss</th>\n",
              "      <th>accuracy</th>\n",
              "      <th>time</th>\n",
              "    </tr>\n",
              "  </thead>\n",
              "  <tbody>\n",
              "    <tr>\n",
              "      <td>0</td>\n",
              "      <td>0.796932</td>\n",
              "      <td>0.793918</td>\n",
              "      <td>0.485000</td>\n",
              "      <td>00:00</td>\n",
              "    </tr>\n",
              "    <tr>\n",
              "      <td>1</td>\n",
              "      <td>0.782693</td>\n",
              "      <td>0.780779</td>\n",
              "      <td>0.485000</td>\n",
              "      <td>00:00</td>\n",
              "    </tr>\n",
              "    <tr>\n",
              "      <td>2</td>\n",
              "      <td>0.763802</td>\n",
              "      <td>0.762494</td>\n",
              "      <td>0.500000</td>\n",
              "      <td>00:00</td>\n",
              "    </tr>\n",
              "    <tr>\n",
              "      <td>3</td>\n",
              "      <td>0.743143</td>\n",
              "      <td>0.746011</td>\n",
              "      <td>0.510000</td>\n",
              "      <td>00:00</td>\n",
              "    </tr>\n",
              "    <tr>\n",
              "      <td>4</td>\n",
              "      <td>0.722639</td>\n",
              "      <td>0.739708</td>\n",
              "      <td>0.580000</td>\n",
              "      <td>00:00</td>\n",
              "    </tr>\n",
              "    <tr>\n",
              "      <td>5</td>\n",
              "      <td>0.704187</td>\n",
              "      <td>0.735049</td>\n",
              "      <td>0.590000</td>\n",
              "      <td>00:00</td>\n",
              "    </tr>\n",
              "    <tr>\n",
              "      <td>6</td>\n",
              "      <td>0.689719</td>\n",
              "      <td>0.732406</td>\n",
              "      <td>0.580000</td>\n",
              "      <td>00:00</td>\n",
              "    </tr>\n",
              "    <tr>\n",
              "      <td>7</td>\n",
              "      <td>0.679329</td>\n",
              "      <td>0.733689</td>\n",
              "      <td>0.575000</td>\n",
              "      <td>00:00</td>\n",
              "    </tr>\n",
              "    <tr>\n",
              "      <td>8</td>\n",
              "      <td>0.674272</td>\n",
              "      <td>0.737360</td>\n",
              "      <td>0.580000</td>\n",
              "      <td>00:00</td>\n",
              "    </tr>\n",
              "    <tr>\n",
              "      <td>9</td>\n",
              "      <td>0.665835</td>\n",
              "      <td>0.736395</td>\n",
              "      <td>0.580000</td>\n",
              "      <td>00:00</td>\n",
              "    </tr>\n",
              "  </tbody>\n",
              "</table>"
            ],
            "text/plain": [
              "<IPython.core.display.HTML object>"
            ]
          },
          "metadata": {
            "tags": []
          }
        }
      ]
    },
    {
      "cell_type": "code",
      "metadata": {
        "id": "JsVgpOqkrLlC",
        "colab_type": "code",
        "colab": {}
      },
      "source": [
        "learn.save('stage-2')"
      ],
      "execution_count": 0,
      "outputs": []
    },
    {
      "cell_type": "code",
      "metadata": {
        "id": "OI2B6GgPrQf-",
        "colab_type": "code",
        "colab": {
          "base_uri": "https://localhost:8080/",
          "height": 391
        },
        "outputId": "4612f7c8-8bc7-46c7-a101-378dbb4c09fb"
      },
      "source": [
        "learn.lr_find()"
      ],
      "execution_count": 28,
      "outputs": [
        {
          "output_type": "display_data",
          "data": {
            "text/html": [
              "\n",
              "    <div>\n",
              "        <style>\n",
              "            /* Turns off some styling */\n",
              "            progress {\n",
              "                /* gets rid of default border in Firefox and Opera. */\n",
              "                border: none;\n",
              "                /* Needs to be in here for Safari polyfill so background images work as expected. */\n",
              "                background-size: auto;\n",
              "            }\n",
              "            .progress-bar-interrupted, .progress-bar-interrupted::-webkit-progress-bar {\n",
              "                background: #F44336;\n",
              "            }\n",
              "        </style>\n",
              "      <progress value='9' class='' max='10' style='width:300px; height:20px; vertical-align: middle;'></progress>\n",
              "      90.00% [9/10 00:01<00:00]\n",
              "    </div>\n",
              "    \n",
              "<table border=\"1\" class=\"dataframe\">\n",
              "  <thead>\n",
              "    <tr style=\"text-align: left;\">\n",
              "      <th>epoch</th>\n",
              "      <th>train_loss</th>\n",
              "      <th>valid_loss</th>\n",
              "      <th>accuracy</th>\n",
              "      <th>time</th>\n",
              "    </tr>\n",
              "  </thead>\n",
              "  <tbody>\n",
              "    <tr>\n",
              "      <td>0</td>\n",
              "      <td>0.644258</td>\n",
              "      <td>#na#</td>\n",
              "      <td>00:00</td>\n",
              "    </tr>\n",
              "    <tr>\n",
              "      <td>1</td>\n",
              "      <td>0.639008</td>\n",
              "      <td>#na#</td>\n",
              "      <td>00:00</td>\n",
              "    </tr>\n",
              "    <tr>\n",
              "      <td>2</td>\n",
              "      <td>0.633397</td>\n",
              "      <td>#na#</td>\n",
              "      <td>00:00</td>\n",
              "    </tr>\n",
              "    <tr>\n",
              "      <td>3</td>\n",
              "      <td>0.630136</td>\n",
              "      <td>#na#</td>\n",
              "      <td>00:00</td>\n",
              "    </tr>\n",
              "    <tr>\n",
              "      <td>4</td>\n",
              "      <td>0.617743</td>\n",
              "      <td>#na#</td>\n",
              "      <td>00:00</td>\n",
              "    </tr>\n",
              "    <tr>\n",
              "      <td>5</td>\n",
              "      <td>0.601783</td>\n",
              "      <td>#na#</td>\n",
              "      <td>00:00</td>\n",
              "    </tr>\n",
              "    <tr>\n",
              "      <td>6</td>\n",
              "      <td>0.543797</td>\n",
              "      <td>#na#</td>\n",
              "      <td>00:00</td>\n",
              "    </tr>\n",
              "    <tr>\n",
              "      <td>7</td>\n",
              "      <td>0.437384</td>\n",
              "      <td>#na#</td>\n",
              "      <td>00:00</td>\n",
              "    </tr>\n",
              "    <tr>\n",
              "      <td>8</td>\n",
              "      <td>0.521496</td>\n",
              "      <td>#na#</td>\n",
              "      <td>00:00</td>\n",
              "    </tr>\n",
              "  </tbody>\n",
              "</table><p>\n",
              "\n",
              "    <div>\n",
              "        <style>\n",
              "            /* Turns off some styling */\n",
              "            progress {\n",
              "                /* gets rid of default border in Firefox and Opera. */\n",
              "                border: none;\n",
              "                /* Needs to be in here for Safari polyfill so background images work as expected. */\n",
              "                background-size: auto;\n",
              "            }\n",
              "            .progress-bar-interrupted, .progress-bar-interrupted::-webkit-progress-bar {\n",
              "                background: #F44336;\n",
              "            }\n",
              "        </style>\n",
              "      <progress value='3' class='' max='10' style='width:300px; height:20px; vertical-align: middle;'></progress>\n",
              "      30.00% [3/10 00:00<00:00 0.7285]\n",
              "    </div>\n",
              "    "
            ],
            "text/plain": [
              "<IPython.core.display.HTML object>"
            ]
          },
          "metadata": {
            "tags": []
          }
        },
        {
          "output_type": "stream",
          "text": [
            "LR Finder is complete, type {learner_name}.recorder.plot() to see the graph.\n"
          ],
          "name": "stdout"
        }
      ]
    },
    {
      "cell_type": "code",
      "metadata": {
        "id": "cEF4bytvrScY",
        "colab_type": "code",
        "colab": {
          "base_uri": "https://localhost:8080/",
          "height": 279
        },
        "outputId": "d30cbf95-3f78-4b50-e509-e1bc0b14c132"
      },
      "source": [
        "learn.recorder.plot()"
      ],
      "execution_count": 29,
      "outputs": [
        {
          "output_type": "display_data",
          "data": {
            "image/png": "[encoded data removed]",
            "text/plain": [
              "<Figure size 432x288 with 1 Axes>"
            ]
          },
          "metadata": {
            "tags": [],
            "needs_background": "light"
          }
        }
      ]
    },
    {
      "cell_type": "code",
      "metadata": {
        "id": "SdhpD-sfriXb",
        "colab_type": "code",
        "colab": {
          "base_uri": "https://localhost:8080/",
          "height": 1000
        },
        "outputId": "41d95fe5-0ed5-4d9a-b924-15a0bbac8964"
      },
      "source": [
        "learn.load('stage-2')"
      ],
      "execution_count": 30,
      "outputs": [
        {
          "output_type": "execute_result",
          "data": {
            "text/plain": [
              "Learner(data=TabularDataBunch;\n",
              "\n",
              "Train: LabelList (691 items)\n",
              "x: TabularList\n",
              "Name Vande Walle, Mr. Nestor Cyriel; Sex male; Ticket 345770; Cabin #na#; Embarked S; Age_na False; Age -0.1522; SibSp -0.4610; Parch -0.4658; Fare -0.4556; ,Name Sage, Mr. Frederick; Sex male; Ticket CA. 2343; Cabin #na#; Embarked S; Age_na True; Age -0.0741; SibSp 7.2619; Parch 2.0785; Fare 0.6815; ,Name Johanson, Mr. Jakob Alfred; Sex male; Ticket 3101264; Cabin #na#; Embarked S; Age_na False; Age 0.3165; SibSp -0.4610; Parch -0.4658; Fare -0.5125; ,Name Youseff, Mr. Gerious; Sex male; Ticket 2628; Cabin #na#; Embarked C; Age_na False; Age 1.2149; SibSp -0.4610; Parch -0.4658; Fare -0.4987; ,Name Cohen, Mr. Gurshon \"Gus\"; Sex male; Ticket A/5 3540; Cabin #na#; Embarked S; Age_na False; Age -0.9334; SibSp -0.4610; Parch -0.4658; Fare -0.4831; \n",
              "y: CategoryList\n",
              "0,0,0,0,1\n",
              "Path: /root/.fastai/data/Titanic;\n",
              "\n",
              "Valid: LabelList (200 items)\n",
              "x: TabularList\n",
              "Name #na#; Sex male; Ticket #na#; Cabin #na#; Embarked S; Age_na False; Age -0.6209; SibSp 0.5043; Parch -0.4658; Fare -0.4982; ,Name #na#; Sex female; Ticket #na#; Cabin #na#; Embarked C; Age_na False; Age 0.6290; SibSp 0.5043; Parch -0.4658; Fare 0.7144; ,Name #na#; Sex female; Ticket #na#; Cabin #na#; Embarked S; Age_na False; Age -0.3084; SibSp -0.4610; Parch -0.4658; Fare -0.4855; ,Name #na#; Sex female; Ticket #na#; Cabin #na#; Embarked S; Age_na False; Age 0.3946; SibSp 0.5043; Parch -0.4658; Fare 0.3700; ,Name #na#; Sex male; Ticket #na#; Cabin #na#; Embarked S; Age_na False; Age 0.3946; SibSp -0.4610; Parch -0.4658; Fare -0.4831; \n",
              "y: CategoryList\n",
              "0,1,1,1,0\n",
              "Path: /root/.fastai/data/Titanic;\n",
              "\n",
              "Test: LabelList (418 items)\n",
              "x: TabularList\n",
              "Name Kelly, Mr. James; Sex male; Ticket #na#; Cabin #na#; Embarked Q; Age_na False; Age 0.3556; SibSp -0.4610; Parch -0.4658; Fare -0.4873; ,Name #na#; Sex female; Ticket #na#; Cabin #na#; Embarked S; Age_na False; Age 1.3321; SibSp 0.5043; Parch -0.4658; Fare -0.5030; ,Name #na#; Sex male; Ticket #na#; Cabin #na#; Embarked Q; Age_na False; Age 2.5038; SibSp -0.4610; Parch -0.4658; Fare -0.4521; ,Name #na#; Sex male; Ticket #na#; Cabin #na#; Embarked S; Age_na False; Age -0.2303; SibSp -0.4610; Parch -0.4658; Fare -0.4715; ,Name #na#; Sex female; Ticket 3101298; Cabin #na#; Embarked S; Age_na False; Age -0.6209; SibSp 0.5043; Parch 0.8064; Fare -0.4028; \n",
              "y: EmptyLabelList\n",
              ",,,,\n",
              "Path: /root/.fastai/data/Titanic, model=TabularModel(\n",
              "  (embeds): ModuleList(\n",
              "    (0): Embedding(692, 62)\n",
              "    (1): Embedding(3, 3)\n",
              "    (2): Embedding(553, 55)\n",
              "    (3): Embedding(126, 24)\n",
              "    (4): Embedding(4, 3)\n",
              "    (5): Embedding(3, 3)\n",
              "  )\n",
              "  (emb_drop): Dropout(p=0.1, inplace=False)\n",
              "  (bn_cont): BatchNorm1d(4, eps=1e-05, momentum=0.1, affine=True, track_running_stats=True)\n",
              "  (layers): Sequential(\n",
              "    (0): Linear(in_features=154, out_features=1000, bias=True)\n",
              "    (1): ReLU(inplace=True)\n",
              "    (2): BatchNorm1d(1000, eps=1e-05, momentum=0.1, affine=True, track_running_stats=True)\n",
              "    (3): Linear(in_features=1000, out_features=100, bias=True)\n",
              "    (4): ReLU(inplace=True)\n",
              "    (5): BatchNorm1d(100, eps=1e-05, momentum=0.1, affine=True, track_running_stats=True)\n",
              "    (6): Linear(in_features=100, out_features=15, bias=True)\n",
              "    (7): ReLU(inplace=True)\n",
              "    (8): BatchNorm1d(15, eps=1e-05, momentum=0.1, affine=True, track_running_stats=True)\n",
              "    (9): Linear(in_features=15, out_features=2, bias=True)\n",
              "  )\n",
              "), opt_func=functools.partial(<class 'torch.optim.adam.Adam'>, betas=(0.9, 0.99)), loss_func=FlattenedLoss of CrossEntropyLoss(), metrics=[<function accuracy at 0x7fcfed6c4400>], true_wd=True, bn_wd=True, wd=0.01, train_bn=True, path=PosixPath('/root/.fastai/data/Titanic'), model_dir='models', callback_fns=[functools.partial(<class 'fastai.basic_train.Recorder'>, add_time=True, silent=False)], callbacks=[], layer_groups=[Sequential(\n",
              "  (0): Embedding(692, 62)\n",
              "  (1): Embedding(3, 3)\n",
              "  (2): Embedding(553, 55)\n",
              "  (3): Embedding(126, 24)\n",
              "  (4): Embedding(4, 3)\n",
              "  (5): Embedding(3, 3)\n",
              "  (6): Dropout(p=0.1, inplace=False)\n",
              "  (7): BatchNorm1d(4, eps=1e-05, momentum=0.1, affine=True, track_running_stats=True)\n",
              "  (8): Linear(in_features=154, out_features=1000, bias=True)\n",
              "  (9): ReLU(inplace=True)\n",
              "  (10): BatchNorm1d(1000, eps=1e-05, momentum=0.1, affine=True, track_running_stats=True)\n",
              "  (11): Linear(in_features=1000, out_features=100, bias=True)\n",
              "  (12): ReLU(inplace=True)\n",
              "  (13): BatchNorm1d(100, eps=1e-05, momentum=0.1, affine=True, track_running_stats=True)\n",
              "  (14): Linear(in_features=100, out_features=15, bias=True)\n",
              "  (15): ReLU(inplace=True)\n",
              "  (16): BatchNorm1d(15, eps=1e-05, momentum=0.1, affine=True, track_running_stats=True)\n",
              "  (17): Linear(in_features=15, out_features=2, bias=True)\n",
              ")], add_time=True, silent=False)"
            ]
          },
          "metadata": {
            "tags": []
          },
          "execution_count": 30
        }
      ]
    },
    {
      "cell_type": "code",
      "metadata": {
        "id": "M6AEkEO5r3D3",
        "colab_type": "code",
        "colab": {
          "base_uri": "https://localhost:8080/",
          "height": 359
        },
        "outputId": "e25ff112-847f-4d54-fef0-aa469616001b"
      },
      "source": [
        "learn.fit_one_cycle(10, 1e-03)"
      ],
      "execution_count": 31,
      "outputs": [
        {
          "output_type": "display_data",
          "data": {
            "text/html": [
              "<table border=\"1\" class=\"dataframe\">\n",
              "  <thead>\n",
              "    <tr style=\"text-align: left;\">\n",
              "      <th>epoch</th>\n",
              "      <th>train_loss</th>\n",
              "      <th>valid_loss</th>\n",
              "      <th>accuracy</th>\n",
              "      <th>time</th>\n",
              "    </tr>\n",
              "  </thead>\n",
              "  <tbody>\n",
              "    <tr>\n",
              "      <td>0</td>\n",
              "      <td>0.619364</td>\n",
              "      <td>0.686557</td>\n",
              "      <td>0.605000</td>\n",
              "      <td>00:00</td>\n",
              "    </tr>\n",
              "    <tr>\n",
              "      <td>1</td>\n",
              "      <td>0.599134</td>\n",
              "      <td>0.711631</td>\n",
              "      <td>0.600000</td>\n",
              "      <td>00:00</td>\n",
              "    </tr>\n",
              "    <tr>\n",
              "      <td>2</td>\n",
              "      <td>0.583111</td>\n",
              "      <td>0.701882</td>\n",
              "      <td>0.625000</td>\n",
              "      <td>00:00</td>\n",
              "    </tr>\n",
              "    <tr>\n",
              "      <td>3</td>\n",
              "      <td>0.540809</td>\n",
              "      <td>0.649723</td>\n",
              "      <td>0.670000</td>\n",
              "      <td>00:00</td>\n",
              "    </tr>\n",
              "    <tr>\n",
              "      <td>4</td>\n",
              "      <td>0.486468</td>\n",
              "      <td>0.597841</td>\n",
              "      <td>0.705000</td>\n",
              "      <td>00:00</td>\n",
              "    </tr>\n",
              "    <tr>\n",
              "      <td>5</td>\n",
              "      <td>0.430508</td>\n",
              "      <td>0.582953</td>\n",
              "      <td>0.720000</td>\n",
              "      <td>00:00</td>\n",
              "    </tr>\n",
              "    <tr>\n",
              "      <td>6</td>\n",
              "      <td>0.380497</td>\n",
              "      <td>0.556838</td>\n",
              "      <td>0.735000</td>\n",
              "      <td>00:00</td>\n",
              "    </tr>\n",
              "    <tr>\n",
              "      <td>7</td>\n",
              "      <td>0.334808</td>\n",
              "      <td>0.554992</td>\n",
              "      <td>0.720000</td>\n",
              "      <td>00:00</td>\n",
              "    </tr>\n",
              "    <tr>\n",
              "      <td>8</td>\n",
              "      <td>0.298557</td>\n",
              "      <td>0.534788</td>\n",
              "      <td>0.745000</td>\n",
              "      <td>00:00</td>\n",
              "    </tr>\n",
              "    <tr>\n",
              "      <td>9</td>\n",
              "      <td>0.269922</td>\n",
              "      <td>0.541721</td>\n",
              "      <td>0.740000</td>\n",
              "      <td>00:00</td>\n",
              "    </tr>\n",
              "  </tbody>\n",
              "</table>"
            ],
            "text/plain": [
              "<IPython.core.display.HTML object>"
            ]
          },
          "metadata": {
            "tags": []
          }
        }
      ]
    },
    {
      "cell_type": "code",
      "metadata": {
        "id": "lRcfI20dr9at",
        "colab_type": "code",
        "colab": {}
      },
      "source": [
        "learn.save('stage-3')"
      ],
      "execution_count": 0,
      "outputs": []
    },
    {
      "cell_type": "code",
      "metadata": {
        "id": "PDD_8Y1AsBQD",
        "colab_type": "code",
        "colab": {
          "base_uri": "https://localhost:8080/",
          "height": 391
        },
        "outputId": "572ac4cd-d561-4f56-9d20-3b0fa50ab72d"
      },
      "source": [
        "learn.lr_find()"
      ],
      "execution_count": 33,
      "outputs": [
        {
          "output_type": "display_data",
          "data": {
            "text/html": [
              "\n",
              "    <div>\n",
              "        <style>\n",
              "            /* Turns off some styling */\n",
              "            progress {\n",
              "                /* gets rid of default border in Firefox and Opera. */\n",
              "                border: none;\n",
              "                /* Needs to be in here for Safari polyfill so background images work as expected. */\n",
              "                background-size: auto;\n",
              "            }\n",
              "            .progress-bar-interrupted, .progress-bar-interrupted::-webkit-progress-bar {\n",
              "                background: #F44336;\n",
              "            }\n",
              "        </style>\n",
              "      <progress value='9' class='' max='10' style='width:300px; height:20px; vertical-align: middle;'></progress>\n",
              "      90.00% [9/10 00:02<00:00]\n",
              "    </div>\n",
              "    \n",
              "<table border=\"1\" class=\"dataframe\">\n",
              "  <thead>\n",
              "    <tr style=\"text-align: left;\">\n",
              "      <th>epoch</th>\n",
              "      <th>train_loss</th>\n",
              "      <th>valid_loss</th>\n",
              "      <th>accuracy</th>\n",
              "      <th>time</th>\n",
              "    </tr>\n",
              "  </thead>\n",
              "  <tbody>\n",
              "    <tr>\n",
              "      <td>0</td>\n",
              "      <td>0.173878</td>\n",
              "      <td>#na#</td>\n",
              "      <td>00:00</td>\n",
              "    </tr>\n",
              "    <tr>\n",
              "      <td>1</td>\n",
              "      <td>0.167521</td>\n",
              "      <td>#na#</td>\n",
              "      <td>00:00</td>\n",
              "    </tr>\n",
              "    <tr>\n",
              "      <td>2</td>\n",
              "      <td>0.166928</td>\n",
              "      <td>#na#</td>\n",
              "      <td>00:00</td>\n",
              "    </tr>\n",
              "    <tr>\n",
              "      <td>3</td>\n",
              "      <td>0.162697</td>\n",
              "      <td>#na#</td>\n",
              "      <td>00:00</td>\n",
              "    </tr>\n",
              "    <tr>\n",
              "      <td>4</td>\n",
              "      <td>0.160695</td>\n",
              "      <td>#na#</td>\n",
              "      <td>00:00</td>\n",
              "    </tr>\n",
              "    <tr>\n",
              "      <td>5</td>\n",
              "      <td>0.151189</td>\n",
              "      <td>#na#</td>\n",
              "      <td>00:00</td>\n",
              "    </tr>\n",
              "    <tr>\n",
              "      <td>6</td>\n",
              "      <td>0.150498</td>\n",
              "      <td>#na#</td>\n",
              "      <td>00:00</td>\n",
              "    </tr>\n",
              "    <tr>\n",
              "      <td>7</td>\n",
              "      <td>0.200409</td>\n",
              "      <td>#na#</td>\n",
              "      <td>00:00</td>\n",
              "    </tr>\n",
              "    <tr>\n",
              "      <td>8</td>\n",
              "      <td>0.282713</td>\n",
              "      <td>#na#</td>\n",
              "      <td>00:00</td>\n",
              "    </tr>\n",
              "  </tbody>\n",
              "</table><p>\n",
              "\n",
              "    <div>\n",
              "        <style>\n",
              "            /* Turns off some styling */\n",
              "            progress {\n",
              "                /* gets rid of default border in Firefox and Opera. */\n",
              "                border: none;\n",
              "                /* Needs to be in here for Safari polyfill so background images work as expected. */\n",
              "                background-size: auto;\n",
              "            }\n",
              "            .progress-bar-interrupted, .progress-bar-interrupted::-webkit-progress-bar {\n",
              "                background: #F44336;\n",
              "            }\n",
              "        </style>\n",
              "      <progress value='5' class='' max='10' style='width:300px; height:20px; vertical-align: middle;'></progress>\n",
              "      50.00% [5/10 00:00<00:00 0.3392]\n",
              "    </div>\n",
              "    "
            ],
            "text/plain": [
              "<IPython.core.display.HTML object>"
            ]
          },
          "metadata": {
            "tags": []
          }
        },
        {
          "output_type": "stream",
          "text": [
            "LR Finder is complete, type {learner_name}.recorder.plot() to see the graph.\n"
          ],
          "name": "stdout"
        }
      ]
    },
    {
      "cell_type": "code",
      "metadata": {
        "id": "M3B5tj3csDqC",
        "colab_type": "code",
        "colab": {
          "base_uri": "https://localhost:8080/",
          "height": 281
        },
        "outputId": "8e2c4796-9030-4753-e163-cecf339de7a7"
      },
      "source": [
        "learn.recorder.plot()"
      ],
      "execution_count": 34,
      "outputs": [
        {
          "output_type": "display_data",
          "data": {
            "image/png": "[encoded data removed]",
            "text/plain": [
              "<Figure size 432x288 with 1 Axes>"
            ]
          },
          "metadata": {
            "tags": [],
            "needs_background": "light"
          }
        }
      ]
    },
    {
      "cell_type": "code",
      "metadata": {
        "id": "_RBojLy2sI2X",
        "colab_type": "code",
        "colab": {
          "base_uri": "https://localhost:8080/",
          "height": 1000
        },
        "outputId": "0ca96516-2e40-4ef8-d891-5c42c8a683af"
      },
      "source": [
        "learn.load('stage-3')"
      ],
      "execution_count": 35,
      "outputs": [
        {
          "output_type": "execute_result",
          "data": {
            "text/plain": [
              "Learner(data=TabularDataBunch;\n",
              "\n",
              "Train: LabelList (691 items)\n",
              "x: TabularList\n",
              "Name Vande Walle, Mr. Nestor Cyriel; Sex male; Ticket 345770; Cabin #na#; Embarked S; Age_na False; Age -0.1522; SibSp -0.4610; Parch -0.4658; Fare -0.4556; ,Name Sage, Mr. Frederick; Sex male; Ticket CA. 2343; Cabin #na#; Embarked S; Age_na True; Age -0.0741; SibSp 7.2619; Parch 2.0785; Fare 0.6815; ,Name Johanson, Mr. Jakob Alfred; Sex male; Ticket 3101264; Cabin #na#; Embarked S; Age_na False; Age 0.3165; SibSp -0.4610; Parch -0.4658; Fare -0.5125; ,Name Youseff, Mr. Gerious; Sex male; Ticket 2628; Cabin #na#; Embarked C; Age_na False; Age 1.2149; SibSp -0.4610; Parch -0.4658; Fare -0.4987; ,Name Cohen, Mr. Gurshon \"Gus\"; Sex male; Ticket A/5 3540; Cabin #na#; Embarked S; Age_na False; Age -0.9334; SibSp -0.4610; Parch -0.4658; Fare -0.4831; \n",
              "y: CategoryList\n",
              "0,0,0,0,1\n",
              "Path: /root/.fastai/data/Titanic;\n",
              "\n",
              "Valid: LabelList (200 items)\n",
              "x: TabularList\n",
              "Name #na#; Sex male; Ticket #na#; Cabin #na#; Embarked S; Age_na False; Age -0.6209; SibSp 0.5043; Parch -0.4658; Fare -0.4982; ,Name #na#; Sex female; Ticket #na#; Cabin #na#; Embarked C; Age_na False; Age 0.6290; SibSp 0.5043; Parch -0.4658; Fare 0.7144; ,Name #na#; Sex female; Ticket #na#; Cabin #na#; Embarked S; Age_na False; Age -0.3084; SibSp -0.4610; Parch -0.4658; Fare -0.4855; ,Name #na#; Sex female; Ticket #na#; Cabin #na#; Embarked S; Age_na False; Age 0.3946; SibSp 0.5043; Parch -0.4658; Fare 0.3700; ,Name #na#; Sex male; Ticket #na#; Cabin #na#; Embarked S; Age_na False; Age 0.3946; SibSp -0.4610; Parch -0.4658; Fare -0.4831; \n",
              "y: CategoryList\n",
              "0,1,1,1,0\n",
              "Path: /root/.fastai/data/Titanic;\n",
              "\n",
              "Test: LabelList (418 items)\n",
              "x: TabularList\n",
              "Name Kelly, Mr. James; Sex male; Ticket #na#; Cabin #na#; Embarked Q; Age_na False; Age 0.3556; SibSp -0.4610; Parch -0.4658; Fare -0.4873; ,Name #na#; Sex female; Ticket #na#; Cabin #na#; Embarked S; Age_na False; Age 1.3321; SibSp 0.5043; Parch -0.4658; Fare -0.5030; ,Name #na#; Sex male; Ticket #na#; Cabin #na#; Embarked Q; Age_na False; Age 2.5038; SibSp -0.4610; Parch -0.4658; Fare -0.4521; ,Name #na#; Sex male; Ticket #na#; Cabin #na#; Embarked S; Age_na False; Age -0.2303; SibSp -0.4610; Parch -0.4658; Fare -0.4715; ,Name #na#; Sex female; Ticket 3101298; Cabin #na#; Embarked S; Age_na False; Age -0.6209; SibSp 0.5043; Parch 0.8064; Fare -0.4028; \n",
              "y: EmptyLabelList\n",
              ",,,,\n",
              "Path: /root/.fastai/data/Titanic, model=TabularModel(\n",
              "  (embeds): ModuleList(\n",
              "    (0): Embedding(692, 62)\n",
              "    (1): Embedding(3, 3)\n",
              "    (2): Embedding(553, 55)\n",
              "    (3): Embedding(126, 24)\n",
              "    (4): Embedding(4, 3)\n",
              "    (5): Embedding(3, 3)\n",
              "  )\n",
              "  (emb_drop): Dropout(p=0.1, inplace=False)\n",
              "  (bn_cont): BatchNorm1d(4, eps=1e-05, momentum=0.1, affine=True, track_running_stats=True)\n",
              "  (layers): Sequential(\n",
              "    (0): Linear(in_features=154, out_features=1000, bias=True)\n",
              "    (1): ReLU(inplace=True)\n",
              "    (2): BatchNorm1d(1000, eps=1e-05, momentum=0.1, affine=True, track_running_stats=True)\n",
              "    (3): Linear(in_features=1000, out_features=100, bias=True)\n",
              "    (4): ReLU(inplace=True)\n",
              "    (5): BatchNorm1d(100, eps=1e-05, momentum=0.1, affine=True, track_running_stats=True)\n",
              "    (6): Linear(in_features=100, out_features=15, bias=True)\n",
              "    (7): ReLU(inplace=True)\n",
              "    (8): BatchNorm1d(15, eps=1e-05, momentum=0.1, affine=True, track_running_stats=True)\n",
              "    (9): Linear(in_features=15, out_features=2, bias=True)\n",
              "  )\n",
              "), opt_func=functools.partial(<class 'torch.optim.adam.Adam'>, betas=(0.9, 0.99)), loss_func=FlattenedLoss of CrossEntropyLoss(), metrics=[<function accuracy at 0x7fcfed6c4400>], true_wd=True, bn_wd=True, wd=0.01, train_bn=True, path=PosixPath('/root/.fastai/data/Titanic'), model_dir='models', callback_fns=[functools.partial(<class 'fastai.basic_train.Recorder'>, add_time=True, silent=False)], callbacks=[], layer_groups=[Sequential(\n",
              "  (0): Embedding(692, 62)\n",
              "  (1): Embedding(3, 3)\n",
              "  (2): Embedding(553, 55)\n",
              "  (3): Embedding(126, 24)\n",
              "  (4): Embedding(4, 3)\n",
              "  (5): Embedding(3, 3)\n",
              "  (6): Dropout(p=0.1, inplace=False)\n",
              "  (7): BatchNorm1d(4, eps=1e-05, momentum=0.1, affine=True, track_running_stats=True)\n",
              "  (8): Linear(in_features=154, out_features=1000, bias=True)\n",
              "  (9): ReLU(inplace=True)\n",
              "  (10): BatchNorm1d(1000, eps=1e-05, momentum=0.1, affine=True, track_running_stats=True)\n",
              "  (11): Linear(in_features=1000, out_features=100, bias=True)\n",
              "  (12): ReLU(inplace=True)\n",
              "  (13): BatchNorm1d(100, eps=1e-05, momentum=0.1, affine=True, track_running_stats=True)\n",
              "  (14): Linear(in_features=100, out_features=15, bias=True)\n",
              "  (15): ReLU(inplace=True)\n",
              "  (16): BatchNorm1d(15, eps=1e-05, momentum=0.1, affine=True, track_running_stats=True)\n",
              "  (17): Linear(in_features=15, out_features=2, bias=True)\n",
              ")], add_time=True, silent=False)"
            ]
          },
          "metadata": {
            "tags": []
          },
          "execution_count": 35
        }
      ]
    },
    {
      "cell_type": "code",
      "metadata": {
        "id": "YQ2sCqL2sOt8",
        "colab_type": "code",
        "colab": {
          "base_uri": "https://localhost:8080/",
          "height": 359
        },
        "outputId": "b73c2c4a-4d47-4655-dd85-75c2d57bc96b"
      },
      "source": [
        "learn.fit_one_cycle(10, 3e-3)"
      ],
      "execution_count": 36,
      "outputs": [
        {
          "output_type": "display_data",
          "data": {
            "text/html": [
              "<table border=\"1\" class=\"dataframe\">\n",
              "  <thead>\n",
              "    <tr style=\"text-align: left;\">\n",
              "      <th>epoch</th>\n",
              "      <th>train_loss</th>\n",
              "      <th>valid_loss</th>\n",
              "      <th>accuracy</th>\n",
              "      <th>time</th>\n",
              "    </tr>\n",
              "  </thead>\n",
              "  <tbody>\n",
              "    <tr>\n",
              "      <td>0</td>\n",
              "      <td>0.162954</td>\n",
              "      <td>0.536592</td>\n",
              "      <td>0.755000</td>\n",
              "      <td>00:00</td>\n",
              "    </tr>\n",
              "    <tr>\n",
              "      <td>1</td>\n",
              "      <td>0.141536</td>\n",
              "      <td>0.492087</td>\n",
              "      <td>0.790000</td>\n",
              "      <td>00:00</td>\n",
              "    </tr>\n",
              "    <tr>\n",
              "      <td>2</td>\n",
              "      <td>0.125865</td>\n",
              "      <td>0.694806</td>\n",
              "      <td>0.760000</td>\n",
              "      <td>00:00</td>\n",
              "    </tr>\n",
              "    <tr>\n",
              "      <td>3</td>\n",
              "      <td>0.113305</td>\n",
              "      <td>0.566221</td>\n",
              "      <td>0.790000</td>\n",
              "      <td>00:00</td>\n",
              "    </tr>\n",
              "    <tr>\n",
              "      <td>4</td>\n",
              "      <td>0.097976</td>\n",
              "      <td>0.695915</td>\n",
              "      <td>0.765000</td>\n",
              "      <td>00:00</td>\n",
              "    </tr>\n",
              "    <tr>\n",
              "      <td>5</td>\n",
              "      <td>0.080349</td>\n",
              "      <td>0.511257</td>\n",
              "      <td>0.780000</td>\n",
              "      <td>00:00</td>\n",
              "    </tr>\n",
              "    <tr>\n",
              "      <td>6</td>\n",
              "      <td>0.065434</td>\n",
              "      <td>0.509151</td>\n",
              "      <td>0.820000</td>\n",
              "      <td>00:00</td>\n",
              "    </tr>\n",
              "    <tr>\n",
              "      <td>7</td>\n",
              "      <td>0.053652</td>\n",
              "      <td>0.522349</td>\n",
              "      <td>0.820000</td>\n",
              "      <td>00:00</td>\n",
              "    </tr>\n",
              "    <tr>\n",
              "      <td>8</td>\n",
              "      <td>0.045572</td>\n",
              "      <td>0.505408</td>\n",
              "      <td>0.815000</td>\n",
              "      <td>00:00</td>\n",
              "    </tr>\n",
              "    <tr>\n",
              "      <td>9</td>\n",
              "      <td>0.038300</td>\n",
              "      <td>0.497272</td>\n",
              "      <td>0.820000</td>\n",
              "      <td>00:00</td>\n",
              "    </tr>\n",
              "  </tbody>\n",
              "</table>"
            ],
            "text/plain": [
              "<IPython.core.display.HTML object>"
            ]
          },
          "metadata": {
            "tags": []
          }
        }
      ]
    },
    {
      "cell_type": "code",
      "metadata": {
        "id": "GhXNUs5UsWmp",
        "colab_type": "code",
        "colab": {}
      },
      "source": [
        "learn.save('stage-4')"
      ],
      "execution_count": 0,
      "outputs": []
    },
    {
      "cell_type": "code",
      "metadata": {
        "id": "lYdcLIiDsb1G",
        "colab_type": "code",
        "colab": {
          "base_uri": "https://localhost:8080/",
          "height": 329
        },
        "outputId": "84e1d679-b464-45f5-f230-eeafca6636f6"
      },
      "source": [
        "learn.lr_find()"
      ],
      "execution_count": 38,
      "outputs": [
        {
          "output_type": "display_data",
          "data": {
            "text/html": [
              "\n",
              "    <div>\n",
              "        <style>\n",
              "            /* Turns off some styling */\n",
              "            progress {\n",
              "                /* gets rid of default border in Firefox and Opera. */\n",
              "                border: none;\n",
              "                /* Needs to be in here for Safari polyfill so background images work as expected. */\n",
              "                background-size: auto;\n",
              "            }\n",
              "            .progress-bar-interrupted, .progress-bar-interrupted::-webkit-progress-bar {\n",
              "                background: #F44336;\n",
              "            }\n",
              "        </style>\n",
              "      <progress value='7' class='' max='10' style='width:300px; height:20px; vertical-align: middle;'></progress>\n",
              "      70.00% [7/10 00:01<00:00]\n",
              "    </div>\n",
              "    \n",
              "<table border=\"1\" class=\"dataframe\">\n",
              "  <thead>\n",
              "    <tr style=\"text-align: left;\">\n",
              "      <th>epoch</th>\n",
              "      <th>train_loss</th>\n",
              "      <th>valid_loss</th>\n",
              "      <th>accuracy</th>\n",
              "      <th>time</th>\n",
              "    </tr>\n",
              "  </thead>\n",
              "  <tbody>\n",
              "    <tr>\n",
              "      <td>0</td>\n",
              "      <td>0.010909</td>\n",
              "      <td>#na#</td>\n",
              "      <td>00:00</td>\n",
              "    </tr>\n",
              "    <tr>\n",
              "      <td>1</td>\n",
              "      <td>0.012078</td>\n",
              "      <td>#na#</td>\n",
              "      <td>00:00</td>\n",
              "    </tr>\n",
              "    <tr>\n",
              "      <td>2</td>\n",
              "      <td>0.012208</td>\n",
              "      <td>#na#</td>\n",
              "      <td>00:00</td>\n",
              "    </tr>\n",
              "    <tr>\n",
              "      <td>3</td>\n",
              "      <td>0.012585</td>\n",
              "      <td>#na#</td>\n",
              "      <td>00:00</td>\n",
              "    </tr>\n",
              "    <tr>\n",
              "      <td>4</td>\n",
              "      <td>0.012296</td>\n",
              "      <td>#na#</td>\n",
              "      <td>00:00</td>\n",
              "    </tr>\n",
              "    <tr>\n",
              "      <td>5</td>\n",
              "      <td>0.011126</td>\n",
              "      <td>#na#</td>\n",
              "      <td>00:00</td>\n",
              "    </tr>\n",
              "    <tr>\n",
              "      <td>6</td>\n",
              "      <td>0.011032</td>\n",
              "      <td>#na#</td>\n",
              "      <td>00:00</td>\n",
              "    </tr>\n",
              "  </tbody>\n",
              "</table><p>\n",
              "\n",
              "    <div>\n",
              "        <style>\n",
              "            /* Turns off some styling */\n",
              "            progress {\n",
              "                /* gets rid of default border in Firefox and Opera. */\n",
              "                border: none;\n",
              "                /* Needs to be in here for Safari polyfill so background images work as expected. */\n",
              "                background-size: auto;\n",
              "            }\n",
              "            .progress-bar-interrupted, .progress-bar-interrupted::-webkit-progress-bar {\n",
              "                background: #F44336;\n",
              "            }\n",
              "        </style>\n",
              "      <progress value='4' class='' max='10' style='width:300px; height:20px; vertical-align: middle;'></progress>\n",
              "      40.00% [4/10 00:00<00:00 0.0289]\n",
              "    </div>\n",
              "    "
            ],
            "text/plain": [
              "<IPython.core.display.HTML object>"
            ]
          },
          "metadata": {
            "tags": []
          }
        },
        {
          "output_type": "stream",
          "text": [
            "LR Finder is complete, type {learner_name}.recorder.plot() to see the graph.\n"
          ],
          "name": "stdout"
        }
      ]
    },
    {
      "cell_type": "code",
      "metadata": {
        "id": "0FW7h1UyseOK",
        "colab_type": "code",
        "colab": {
          "base_uri": "https://localhost:8080/",
          "height": 279
        },
        "outputId": "3f5df8a3-8d35-4f24-a915-25477aee3320"
      },
      "source": [
        "learn.recorder.plot()"
      ],
      "execution_count": 39,
      "outputs": [
        {
          "output_type": "display_data",
          "data": {
            "image/png": "[encoded data removed]",
            "text/plain": [
              "<Figure size 432x288 with 1 Axes>"
            ]
          },
          "metadata": {
            "tags": [],
            "needs_background": "light"
          }
        }
      ]
    },
    {
      "cell_type": "code",
      "metadata": {
        "id": "4VQejBC_sr2Q",
        "colab_type": "code",
        "colab": {
          "base_uri": "https://localhost:8080/",
          "height": 1000
        },
        "outputId": "cc57b309-5914-4c96-b907-a8af6c83e034"
      },
      "source": [
        "learn.load('stage-4')"
      ],
      "execution_count": 55,
      "outputs": [
        {
          "output_type": "execute_result",
          "data": {
            "text/plain": [
              "Learner(data=TabularDataBunch;\n",
              "\n",
              "Train: LabelList (691 items)\n",
              "x: TabularList\n",
              "Name Vande Walle, Mr. Nestor Cyriel; Sex male; Ticket 345770; Cabin #na#; Embarked S; Age_na False; Age -0.1522; SibSp -0.4610; Parch -0.4658; Fare -0.4556; ,Name Sage, Mr. Frederick; Sex male; Ticket CA. 2343; Cabin #na#; Embarked S; Age_na True; Age -0.0741; SibSp 7.2619; Parch 2.0785; Fare 0.6815; ,Name Johanson, Mr. Jakob Alfred; Sex male; Ticket 3101264; Cabin #na#; Embarked S; Age_na False; Age 0.3165; SibSp -0.4610; Parch -0.4658; Fare -0.5125; ,Name Youseff, Mr. Gerious; Sex male; Ticket 2628; Cabin #na#; Embarked C; Age_na False; Age 1.2149; SibSp -0.4610; Parch -0.4658; Fare -0.4987; ,Name Cohen, Mr. Gurshon \"Gus\"; Sex male; Ticket A/5 3540; Cabin #na#; Embarked S; Age_na False; Age -0.9334; SibSp -0.4610; Parch -0.4658; Fare -0.4831; \n",
              "y: CategoryList\n",
              "0,0,0,0,1\n",
              "Path: /root/.fastai/data/Titanic;\n",
              "\n",
              "Valid: LabelList (200 items)\n",
              "x: TabularList\n",
              "Name #na#; Sex male; Ticket #na#; Cabin #na#; Embarked S; Age_na False; Age -0.6209; SibSp 0.5043; Parch -0.4658; Fare -0.4982; ,Name #na#; Sex female; Ticket #na#; Cabin #na#; Embarked C; Age_na False; Age 0.6290; SibSp 0.5043; Parch -0.4658; Fare 0.7144; ,Name #na#; Sex female; Ticket #na#; Cabin #na#; Embarked S; Age_na False; Age -0.3084; SibSp -0.4610; Parch -0.4658; Fare -0.4855; ,Name #na#; Sex female; Ticket #na#; Cabin #na#; Embarked S; Age_na False; Age 0.3946; SibSp 0.5043; Parch -0.4658; Fare 0.3700; ,Name #na#; Sex male; Ticket #na#; Cabin #na#; Embarked S; Age_na False; Age 0.3946; SibSp -0.4610; Parch -0.4658; Fare -0.4831; \n",
              "y: CategoryList\n",
              "0,1,1,1,0\n",
              "Path: /root/.fastai/data/Titanic;\n",
              "\n",
              "Test: LabelList (418 items)\n",
              "x: TabularList\n",
              "Name Kelly, Mr. James; Sex male; Ticket #na#; Cabin #na#; Embarked Q; Age_na False; Age 0.3556; SibSp -0.4610; Parch -0.4658; Fare -0.4873; ,Name #na#; Sex female; Ticket #na#; Cabin #na#; Embarked S; Age_na False; Age 1.3321; SibSp 0.5043; Parch -0.4658; Fare -0.5030; ,Name #na#; Sex male; Ticket #na#; Cabin #na#; Embarked Q; Age_na False; Age 2.5038; SibSp -0.4610; Parch -0.4658; Fare -0.4521; ,Name #na#; Sex male; Ticket #na#; Cabin #na#; Embarked S; Age_na False; Age -0.2303; SibSp -0.4610; Parch -0.4658; Fare -0.4715; ,Name #na#; Sex female; Ticket 3101298; Cabin #na#; Embarked S; Age_na False; Age -0.6209; SibSp 0.5043; Parch 0.8064; Fare -0.4028; \n",
              "y: EmptyLabelList\n",
              ",,,,\n",
              "Path: /root/.fastai/data/Titanic, model=TabularModel(\n",
              "  (embeds): ModuleList(\n",
              "    (0): Embedding(692, 62)\n",
              "    (1): Embedding(3, 3)\n",
              "    (2): Embedding(553, 55)\n",
              "    (3): Embedding(126, 24)\n",
              "    (4): Embedding(4, 3)\n",
              "    (5): Embedding(3, 3)\n",
              "  )\n",
              "  (emb_drop): Dropout(p=0.1, inplace=False)\n",
              "  (bn_cont): BatchNorm1d(4, eps=1e-05, momentum=0.1, affine=True, track_running_stats=True)\n",
              "  (layers): Sequential(\n",
              "    (0): Linear(in_features=154, out_features=1000, bias=True)\n",
              "    (1): ReLU(inplace=True)\n",
              "    (2): BatchNorm1d(1000, eps=1e-05, momentum=0.1, affine=True, track_running_stats=True)\n",
              "    (3): Linear(in_features=1000, out_features=100, bias=True)\n",
              "    (4): ReLU(inplace=True)\n",
              "    (5): BatchNorm1d(100, eps=1e-05, momentum=0.1, affine=True, track_running_stats=True)\n",
              "    (6): Linear(in_features=100, out_features=15, bias=True)\n",
              "    (7): ReLU(inplace=True)\n",
              "    (8): BatchNorm1d(15, eps=1e-05, momentum=0.1, affine=True, track_running_stats=True)\n",
              "    (9): Linear(in_features=15, out_features=2, bias=True)\n",
              "  )\n",
              "), opt_func=functools.partial(<class 'torch.optim.adam.Adam'>, betas=(0.9, 0.99)), loss_func=FlattenedLoss of CrossEntropyLoss(), metrics=[<function accuracy at 0x7fcfed6c4400>], true_wd=True, bn_wd=True, wd=0.01, train_bn=True, path=PosixPath('/root/.fastai/data/Titanic'), model_dir='models', callback_fns=[functools.partial(<class 'fastai.basic_train.Recorder'>, add_time=True, silent=False)], callbacks=[], layer_groups=[Sequential(\n",
              "  (0): Embedding(692, 62)\n",
              "  (1): Embedding(3, 3)\n",
              "  (2): Embedding(553, 55)\n",
              "  (3): Embedding(126, 24)\n",
              "  (4): Embedding(4, 3)\n",
              "  (5): Embedding(3, 3)\n",
              "  (6): Dropout(p=0.1, inplace=False)\n",
              "  (7): BatchNorm1d(4, eps=1e-05, momentum=0.1, affine=True, track_running_stats=True)\n",
              "  (8): Linear(in_features=154, out_features=1000, bias=True)\n",
              "  (9): ReLU(inplace=True)\n",
              "  (10): BatchNorm1d(1000, eps=1e-05, momentum=0.1, affine=True, track_running_stats=True)\n",
              "  (11): Linear(in_features=1000, out_features=100, bias=True)\n",
              "  (12): ReLU(inplace=True)\n",
              "  (13): BatchNorm1d(100, eps=1e-05, momentum=0.1, affine=True, track_running_stats=True)\n",
              "  (14): Linear(in_features=100, out_features=15, bias=True)\n",
              "  (15): ReLU(inplace=True)\n",
              "  (16): BatchNorm1d(15, eps=1e-05, momentum=0.1, affine=True, track_running_stats=True)\n",
              "  (17): Linear(in_features=15, out_features=2, bias=True)\n",
              ")], add_time=True, silent=False)"
            ]
          },
          "metadata": {
            "tags": []
          },
          "execution_count": 55
        }
      ]
    },
    {
      "cell_type": "code",
      "metadata": {
        "id": "P_bhUcEMswy-",
        "colab_type": "code",
        "colab": {
          "base_uri": "https://localhost:8080/",
          "height": 359
        },
        "outputId": "375a1402-0909-475a-e158-4d0b64d4ad30"
      },
      "source": [
        "learn.fit_one_cycle(10, 1e-3/2.6**4)"
      ],
      "execution_count": 56,
      "outputs": [
        {
          "output_type": "display_data",
          "data": {
            "text/html": [
              "<table border=\"1\" class=\"dataframe\">\n",
              "  <thead>\n",
              "    <tr style=\"text-align: left;\">\n",
              "      <th>epoch</th>\n",
              "      <th>train_loss</th>\n",
              "      <th>valid_loss</th>\n",
              "      <th>accuracy</th>\n",
              "      <th>time</th>\n",
              "    </tr>\n",
              "  </thead>\n",
              "  <tbody>\n",
              "    <tr>\n",
              "      <td>0</td>\n",
              "      <td>0.012203</td>\n",
              "      <td>0.495440</td>\n",
              "      <td>0.820000</td>\n",
              "      <td>00:00</td>\n",
              "    </tr>\n",
              "    <tr>\n",
              "      <td>1</td>\n",
              "      <td>0.019026</td>\n",
              "      <td>0.510578</td>\n",
              "      <td>0.825000</td>\n",
              "      <td>00:00</td>\n",
              "    </tr>\n",
              "    <tr>\n",
              "      <td>2</td>\n",
              "      <td>0.016022</td>\n",
              "      <td>0.503841</td>\n",
              "      <td>0.825000</td>\n",
              "      <td>00:00</td>\n",
              "    </tr>\n",
              "    <tr>\n",
              "      <td>3</td>\n",
              "      <td>0.014490</td>\n",
              "      <td>0.506289</td>\n",
              "      <td>0.820000</td>\n",
              "      <td>00:00</td>\n",
              "    </tr>\n",
              "    <tr>\n",
              "      <td>4</td>\n",
              "      <td>0.015145</td>\n",
              "      <td>0.505880</td>\n",
              "      <td>0.815000</td>\n",
              "      <td>00:00</td>\n",
              "    </tr>\n",
              "    <tr>\n",
              "      <td>5</td>\n",
              "      <td>0.015668</td>\n",
              "      <td>0.519471</td>\n",
              "      <td>0.820000</td>\n",
              "      <td>00:00</td>\n",
              "    </tr>\n",
              "    <tr>\n",
              "      <td>6</td>\n",
              "      <td>0.014597</td>\n",
              "      <td>0.513678</td>\n",
              "      <td>0.820000</td>\n",
              "      <td>00:00</td>\n",
              "    </tr>\n",
              "    <tr>\n",
              "      <td>7</td>\n",
              "      <td>0.014140</td>\n",
              "      <td>0.500516</td>\n",
              "      <td>0.815000</td>\n",
              "      <td>00:00</td>\n",
              "    </tr>\n",
              "    <tr>\n",
              "      <td>8</td>\n",
              "      <td>0.013751</td>\n",
              "      <td>0.503047</td>\n",
              "      <td>0.815000</td>\n",
              "      <td>00:00</td>\n",
              "    </tr>\n",
              "    <tr>\n",
              "      <td>9</td>\n",
              "      <td>0.013445</td>\n",
              "      <td>0.496425</td>\n",
              "      <td>0.820000</td>\n",
              "      <td>00:00</td>\n",
              "    </tr>\n",
              "  </tbody>\n",
              "</table>"
            ],
            "text/plain": [
              "<IPython.core.display.HTML object>"
            ]
          },
          "metadata": {
            "tags": []
          }
        }
      ]
    },
    {
      "cell_type": "code",
      "metadata": {
        "id": "QQwkbpL1s1S8",
        "colab_type": "code",
        "colab": {}
      },
      "source": [
        "row = train.iloc[0]"
      ],
      "execution_count": 0,
      "outputs": []
    },
    {
      "cell_type": "code",
      "metadata": {
        "id": "0WFD3momwdd0",
        "colab_type": "code",
        "colab": {
          "base_uri": "https://localhost:8080/",
          "height": 238
        },
        "outputId": "8bfe7721-6398-47fe-f599-0b63f2d762a2"
      },
      "source": [
        "row"
      ],
      "execution_count": 61,
      "outputs": [
        {
          "output_type": "execute_result",
          "data": {
            "text/plain": [
              "PassengerId                          1\n",
              "Survived                             0\n",
              "Pclass                               3\n",
              "Name           Braund, Mr. Owen Harris\n",
              "Sex                               male\n",
              "Age                                 22\n",
              "SibSp                                1\n",
              "Parch                                0\n",
              "Ticket                       A/5 21171\n",
              "Fare                              7.25\n",
              "Cabin                              NaN\n",
              "Embarked                             S\n",
              "Name: 0, dtype: object"
            ]
          },
          "metadata": {
            "tags": []
          },
          "execution_count": 61
        }
      ]
    },
    {
      "cell_type": "code",
      "metadata": {
        "id": "y5g_F5TYwMoe",
        "colab_type": "code",
        "colab": {
          "base_uri": "https://localhost:8080/",
          "height": 34
        },
        "outputId": "9ea27560-39f6-4a1d-d8a5-f1f66702231e"
      },
      "source": [
        "learn.predict(row)"
      ],
      "execution_count": 59,
      "outputs": [
        {
          "output_type": "execute_result",
          "data": {
            "text/plain": [
              "(Category 0, tensor(0), tensor([0.9617, 0.0383]))"
            ]
          },
          "metadata": {
            "tags": []
          },
          "execution_count": 59
        }
      ]
    },
    {
      "cell_type": "code",
      "metadata": {
        "id": "Pu16xo0fwUqi",
        "colab_type": "code",
        "colab": {}
      },
      "source": [
        ""
      ],
      "execution_count": 0,
      "outputs": []
    }
  ]
}